{
 "cells": [
  {
   "cell_type": "markdown",
   "metadata": {},
   "source": [
    "# Manipulação de tabela fits no Pandas\n",
    "\n",
    "Será feita a leitura de uma tabela em formato fits, usando o Astropy. Depois, isto será convertido em um Data frame no Pandas."
   ]
  },
  {
   "cell_type": "code",
   "execution_count": 2,
   "metadata": {
    "collapsed": true
   },
   "outputs": [],
   "source": [
    "import pandas as pd\n",
    "import numpy as np\n",
    "from astropy.table import Table"
   ]
  },
  {
   "cell_type": "markdown",
   "metadata": {},
   "source": [
    "Letura dos dados com o método read da classe Table."
   ]
  },
  {
   "cell_type": "code",
   "execution_count": 56,
   "metadata": {
    "collapsed": false
   },
   "outputs": [
    {
     "name": "stderr",
     "output_type": "stream",
     "text": [
      "WARNING: UnitsWarning: 'none' did not parse as fits unit: At col 0, Unit 'none' not supported by the FITS standard.  [astropy.units.core]\n",
      "WARNING: UnitsWarning: 'ADU' did not parse as fits unit: At col 0, Unit 'ADU' not supported by the FITS standard. Did you mean AU or adu? [astropy.units.core]\n"
     ]
    }
   ],
   "source": [
    "dados = Table.read(\"TILT_TAB_SLIT_UVB.fits\")"
   ]
  },
  {
   "cell_type": "markdown",
   "metadata": {},
   "source": [
    "Conversão do objeto Table do Astropy para o Dataframe pandas, usando o método to_pandas()"
   ]
  },
  {
   "cell_type": "code",
   "execution_count": 46,
   "metadata": {
    "collapsed": false
   },
   "outputs": [],
   "source": [
    "dados = dados.to_pandas()"
   ]
  },
  {
   "cell_type": "markdown",
   "metadata": {},
   "source": [
    "Verificando o tipo de dados da variável dados. Pode-se ver, na saída, que trata-se de um objeto pandas"
   ]
  },
  {
   "cell_type": "code",
   "execution_count": 47,
   "metadata": {
    "collapsed": false
   },
   "outputs": [
    {
     "data": {
      "text/plain": [
       "pandas.core.frame.DataFrame"
      ]
     },
     "execution_count": 47,
     "metadata": {},
     "output_type": "execute_result"
    }
   ],
   "source": [
    "type(dados)"
   ]
  },
  {
   "cell_type": "markdown",
   "metadata": {},
   "source": [
    "Checando o dataframe"
   ]
  },
  {
   "cell_type": "code",
   "execution_count": 48,
   "metadata": {
    "collapsed": false
   },
   "outputs": [
    {
     "data": {
      "text/html": [
       "<div>\n",
       "<table border=\"1\" class=\"dataframe\">\n",
       "  <thead>\n",
       "    <tr style=\"text-align: right;\">\n",
       "      <th></th>\n",
       "      <th>WAVELENGTH</th>\n",
       "      <th>NAME</th>\n",
       "      <th>ORDER</th>\n",
       "      <th>Flux</th>\n",
       "      <th>Intensity</th>\n",
       "      <th>Xcen</th>\n",
       "      <th>Ycen</th>\n",
       "      <th>YGauss</th>\n",
       "      <th>Ytilt</th>\n",
       "      <th>FWHM</th>\n",
       "      <th>SHIFT_Y</th>\n",
       "      <th>TILT</th>\n",
       "      <th>chisq</th>\n",
       "      <th>SPECRES</th>\n",
       "      <th>FLAG</th>\n",
       "    </tr>\n",
       "  </thead>\n",
       "  <tbody>\n",
       "    <tr>\n",
       "      <th>0</th>\n",
       "      <td>303.350800</td>\n",
       "      <td></td>\n",
       "      <td>24</td>\n",
       "      <td>1693.682053</td>\n",
       "      <td>308.940796</td>\n",
       "      <td>469.825800</td>\n",
       "      <td>993.460331</td>\n",
       "      <td>993.293149</td>\n",
       "      <td>993.269916</td>\n",
       "      <td>4.966773</td>\n",
       "      <td>-0.190415</td>\n",
       "      <td>0.101151</td>\n",
       "      <td>0.003037</td>\n",
       "      <td>6121.888056</td>\n",
       "      <td>0</td>\n",
       "    </tr>\n",
       "    <tr>\n",
       "      <th>1</th>\n",
       "      <td>314.027191</td>\n",
       "      <td></td>\n",
       "      <td>24</td>\n",
       "      <td>4724.594716</td>\n",
       "      <td>NaN</td>\n",
       "      <td>546.020574</td>\n",
       "      <td>2096.967099</td>\n",
       "      <td>2095.965448</td>\n",
       "      <td>2095.973154</td>\n",
       "      <td>NaN</td>\n",
       "      <td>NaN</td>\n",
       "      <td>0.118228</td>\n",
       "      <td>0.003804</td>\n",
       "      <td>5798.382676</td>\n",
       "      <td>4</td>\n",
       "    </tr>\n",
       "    <tr>\n",
       "      <th>2</th>\n",
       "      <td>316.136414</td>\n",
       "      <td></td>\n",
       "      <td>23</td>\n",
       "      <td>751.941807</td>\n",
       "      <td>170.057129</td>\n",
       "      <td>624.388073</td>\n",
       "      <td>965.655938</td>\n",
       "      <td>965.438779</td>\n",
       "      <td>965.508404</td>\n",
       "      <td>5.378685</td>\n",
       "      <td>-0.147534</td>\n",
       "      <td>0.110583</td>\n",
       "      <td>0.004730</td>\n",
       "      <td>5648.945788</td>\n",
       "      <td>0</td>\n",
       "    </tr>\n",
       "    <tr>\n",
       "      <th>3</th>\n",
       "      <td>316.136414</td>\n",
       "      <td></td>\n",
       "      <td>24</td>\n",
       "      <td>2055.580276</td>\n",
       "      <td>374.940796</td>\n",
       "      <td>547.658064</td>\n",
       "      <td>2323.616864</td>\n",
       "      <td>2323.659854</td>\n",
       "      <td>2323.593544</td>\n",
       "      <td>6.173869</td>\n",
       "      <td>-0.023320</td>\n",
       "      <td>0.122072</td>\n",
       "      <td>0.004871</td>\n",
       "      <td>5592.741702</td>\n",
       "      <td>0</td>\n",
       "    </tr>\n",
       "    <tr>\n",
       "      <th>4</th>\n",
       "      <td>316.966797</td>\n",
       "      <td></td>\n",
       "      <td>23</td>\n",
       "      <td>1315.522971</td>\n",
       "      <td>NaN</td>\n",
       "      <td>632.908711</td>\n",
       "      <td>1046.058877</td>\n",
       "      <td>1045.079380</td>\n",
       "      <td>1045.035108</td>\n",
       "      <td>NaN</td>\n",
       "      <td>NaN</td>\n",
       "      <td>0.110568</td>\n",
       "      <td>0.006583</td>\n",
       "      <td>5326.026225</td>\n",
       "      <td>4</td>\n",
       "    </tr>\n",
       "  </tbody>\n",
       "</table>\n",
       "</div>"
      ],
      "text/plain": [
       "   WAVELENGTH NAME  ORDER         Flux   Intensity        Xcen         Ycen  \\\n",
       "0  303.350800          24  1693.682053  308.940796  469.825800   993.460331   \n",
       "1  314.027191          24  4724.594716         NaN  546.020574  2096.967099   \n",
       "2  316.136414          23   751.941807  170.057129  624.388073   965.655938   \n",
       "3  316.136414          24  2055.580276  374.940796  547.658064  2323.616864   \n",
       "4  316.966797          23  1315.522971         NaN  632.908711  1046.058877   \n",
       "\n",
       "        YGauss        Ytilt      FWHM   SHIFT_Y      TILT     chisq  \\\n",
       "0   993.293149   993.269916  4.966773 -0.190415  0.101151  0.003037   \n",
       "1  2095.965448  2095.973154       NaN       NaN  0.118228  0.003804   \n",
       "2   965.438779   965.508404  5.378685 -0.147534  0.110583  0.004730   \n",
       "3  2323.659854  2323.593544  6.173869 -0.023320  0.122072  0.004871   \n",
       "4  1045.079380  1045.035108       NaN       NaN  0.110568  0.006583   \n",
       "\n",
       "       SPECRES  FLAG  \n",
       "0  6121.888056     0  \n",
       "1  5798.382676     4  \n",
       "2  5648.945788     0  \n",
       "3  5592.741702     0  \n",
       "4  5326.026225     4  "
      ]
     },
     "execution_count": 48,
     "metadata": {},
     "output_type": "execute_result"
    }
   ],
   "source": [
    "dados.head()"
   ]
  },
  {
   "cell_type": "markdown",
   "metadata": {},
   "source": [
    "Removendo-se os elementos NaN (Not a number), com o método dropna. "
   ]
  },
  {
   "cell_type": "code",
   "execution_count": null,
   "metadata": {
    "collapsed": true
   },
   "outputs": [],
   "source": [
    "dados = dados.dropna()"
   ]
  },
  {
   "cell_type": "markdown",
   "metadata": {},
   "source": [
    "Reorganização dos índices, pois foram removidas algumas linhas com seus respectivos índices. Os índices são reorganizados em $0, 1, 2, 3, \\cdots$"
   ]
  },
  {
   "cell_type": "code",
   "execution_count": 49,
   "metadata": {
    "collapsed": false
   },
   "outputs": [],
   "source": [
    "dados = dados.reset_index(drop=True)"
   ]
  },
  {
   "cell_type": "code",
   "execution_count": 50,
   "metadata": {
    "collapsed": false
   },
   "outputs": [
    {
     "data": {
      "text/html": [
       "<div>\n",
       "<table border=\"1\" class=\"dataframe\">\n",
       "  <thead>\n",
       "    <tr style=\"text-align: right;\">\n",
       "      <th></th>\n",
       "      <th>WAVELENGTH</th>\n",
       "      <th>NAME</th>\n",
       "      <th>ORDER</th>\n",
       "      <th>Flux</th>\n",
       "      <th>Intensity</th>\n",
       "      <th>Xcen</th>\n",
       "      <th>Ycen</th>\n",
       "      <th>YGauss</th>\n",
       "      <th>Ytilt</th>\n",
       "      <th>FWHM</th>\n",
       "      <th>SHIFT_Y</th>\n",
       "      <th>TILT</th>\n",
       "      <th>chisq</th>\n",
       "      <th>SPECRES</th>\n",
       "      <th>FLAG</th>\n",
       "    </tr>\n",
       "  </thead>\n",
       "  <tbody>\n",
       "    <tr>\n",
       "      <th>0</th>\n",
       "      <td>303.350800</td>\n",
       "      <td></td>\n",
       "      <td>24</td>\n",
       "      <td>1693.682053</td>\n",
       "      <td>308.940796</td>\n",
       "      <td>469.825800</td>\n",
       "      <td>993.460331</td>\n",
       "      <td>993.293149</td>\n",
       "      <td>993.269916</td>\n",
       "      <td>4.966773</td>\n",
       "      <td>-0.190415</td>\n",
       "      <td>0.101151</td>\n",
       "      <td>0.003037</td>\n",
       "      <td>6121.888056</td>\n",
       "      <td>0</td>\n",
       "    </tr>\n",
       "    <tr>\n",
       "      <th>1</th>\n",
       "      <td>316.136414</td>\n",
       "      <td></td>\n",
       "      <td>23</td>\n",
       "      <td>751.941807</td>\n",
       "      <td>170.057129</td>\n",
       "      <td>624.388073</td>\n",
       "      <td>965.655938</td>\n",
       "      <td>965.438779</td>\n",
       "      <td>965.508404</td>\n",
       "      <td>5.378685</td>\n",
       "      <td>-0.147534</td>\n",
       "      <td>0.110583</td>\n",
       "      <td>0.004730</td>\n",
       "      <td>5648.945788</td>\n",
       "      <td>0</td>\n",
       "    </tr>\n",
       "    <tr>\n",
       "      <th>2</th>\n",
       "      <td>316.136414</td>\n",
       "      <td></td>\n",
       "      <td>24</td>\n",
       "      <td>2055.580276</td>\n",
       "      <td>374.940796</td>\n",
       "      <td>547.658064</td>\n",
       "      <td>2323.616864</td>\n",
       "      <td>2323.659854</td>\n",
       "      <td>2323.593544</td>\n",
       "      <td>6.173869</td>\n",
       "      <td>-0.023320</td>\n",
       "      <td>0.122072</td>\n",
       "      <td>0.004871</td>\n",
       "      <td>5592.741702</td>\n",
       "      <td>0</td>\n",
       "    </tr>\n",
       "    <tr>\n",
       "      <th>3</th>\n",
       "      <td>317.127563</td>\n",
       "      <td></td>\n",
       "      <td>23</td>\n",
       "      <td>1058.620289</td>\n",
       "      <td>235.041870</td>\n",
       "      <td>634.492164</td>\n",
       "      <td>1061.646936</td>\n",
       "      <td>1061.140023</td>\n",
       "      <td>1061.320050</td>\n",
       "      <td>4.787113</td>\n",
       "      <td>-0.326886</td>\n",
       "      <td>0.112234</td>\n",
       "      <td>0.007390</td>\n",
       "      <td>6391.736296</td>\n",
       "      <td>0</td>\n",
       "    </tr>\n",
       "    <tr>\n",
       "      <th>4</th>\n",
       "      <td>317.127563</td>\n",
       "      <td></td>\n",
       "      <td>24</td>\n",
       "      <td>1793.493499</td>\n",
       "      <td>349.041870</td>\n",
       "      <td>546.815742</td>\n",
       "      <td>2431.487632</td>\n",
       "      <td>2431.350050</td>\n",
       "      <td>2431.292653</td>\n",
       "      <td>5.646270</td>\n",
       "      <td>-0.194979</td>\n",
       "      <td>0.125136</td>\n",
       "      <td>0.003885</td>\n",
       "      <td>6200.521514</td>\n",
       "      <td>0</td>\n",
       "    </tr>\n",
       "  </tbody>\n",
       "</table>\n",
       "</div>"
      ],
      "text/plain": [
       "   WAVELENGTH NAME  ORDER         Flux   Intensity        Xcen         Ycen  \\\n",
       "0  303.350800          24  1693.682053  308.940796  469.825800   993.460331   \n",
       "1  316.136414          23   751.941807  170.057129  624.388073   965.655938   \n",
       "2  316.136414          24  2055.580276  374.940796  547.658064  2323.616864   \n",
       "3  317.127563          23  1058.620289  235.041870  634.492164  1061.646936   \n",
       "4  317.127563          24  1793.493499  349.041870  546.815742  2431.487632   \n",
       "\n",
       "        YGauss        Ytilt      FWHM   SHIFT_Y      TILT     chisq  \\\n",
       "0   993.293149   993.269916  4.966773 -0.190415  0.101151  0.003037   \n",
       "1   965.438779   965.508404  5.378685 -0.147534  0.110583  0.004730   \n",
       "2  2323.659854  2323.593544  6.173869 -0.023320  0.122072  0.004871   \n",
       "3  1061.140023  1061.320050  4.787113 -0.326886  0.112234  0.007390   \n",
       "4  2431.350050  2431.292653  5.646270 -0.194979  0.125136  0.003885   \n",
       "\n",
       "       SPECRES  FLAG  \n",
       "0  6121.888056     0  \n",
       "1  5648.945788     0  \n",
       "2  5592.741702     0  \n",
       "3  6391.736296     0  \n",
       "4  6200.521514     0  "
      ]
     },
     "execution_count": 50,
     "metadata": {},
     "output_type": "execute_result"
    }
   ],
   "source": [
    "dados.head()"
   ]
  },
  {
   "cell_type": "markdown",
   "metadata": {},
   "source": [
    "Aqui usa-se o método groupby, para organizar para a coluna WAVELENGTH em grupo. Depois, usando-se o paradigma funcional, usa-se a função muda (lambda) para selecionar o que tem a coluna \"chisq\" menor, por meio do método idxmin em cada membro que foi selecionado por groupby."
   ]
  },
  {
   "cell_type": "code",
   "execution_count": 51,
   "metadata": {
    "collapsed": false
   },
   "outputs": [],
   "source": [
    "dados = dados.iloc[dados.groupby(['WAVELENGTH']).apply(lambda x: x['chisq'].idxmin())]"
   ]
  },
  {
   "cell_type": "code",
   "execution_count": 52,
   "metadata": {
    "collapsed": false
   },
   "outputs": [
    {
     "data": {
      "text/html": [
       "<div>\n",
       "<table border=\"1\" class=\"dataframe\">\n",
       "  <thead>\n",
       "    <tr style=\"text-align: right;\">\n",
       "      <th></th>\n",
       "      <th>WAVELENGTH</th>\n",
       "      <th>NAME</th>\n",
       "      <th>ORDER</th>\n",
       "      <th>Flux</th>\n",
       "      <th>Intensity</th>\n",
       "      <th>Xcen</th>\n",
       "      <th>Ycen</th>\n",
       "      <th>YGauss</th>\n",
       "      <th>Ytilt</th>\n",
       "      <th>FWHM</th>\n",
       "      <th>SHIFT_Y</th>\n",
       "      <th>TILT</th>\n",
       "      <th>chisq</th>\n",
       "      <th>SPECRES</th>\n",
       "      <th>FLAG</th>\n",
       "    </tr>\n",
       "  </thead>\n",
       "  <tbody>\n",
       "    <tr>\n",
       "      <th>0</th>\n",
       "      <td>303.350800</td>\n",
       "      <td></td>\n",
       "      <td>24</td>\n",
       "      <td>1693.682053</td>\n",
       "      <td>308.940796</td>\n",
       "      <td>469.825800</td>\n",
       "      <td>993.460331</td>\n",
       "      <td>993.293149</td>\n",
       "      <td>993.269916</td>\n",
       "      <td>4.966773</td>\n",
       "      <td>-0.190415</td>\n",
       "      <td>0.101151</td>\n",
       "      <td>0.003037</td>\n",
       "      <td>6121.888056</td>\n",
       "      <td>0</td>\n",
       "    </tr>\n",
       "    <tr>\n",
       "      <th>1</th>\n",
       "      <td>316.136414</td>\n",
       "      <td></td>\n",
       "      <td>23</td>\n",
       "      <td>751.941807</td>\n",
       "      <td>170.057129</td>\n",
       "      <td>624.388073</td>\n",
       "      <td>965.655938</td>\n",
       "      <td>965.438779</td>\n",
       "      <td>965.508404</td>\n",
       "      <td>5.378685</td>\n",
       "      <td>-0.147534</td>\n",
       "      <td>0.110583</td>\n",
       "      <td>0.004730</td>\n",
       "      <td>5648.945788</td>\n",
       "      <td>0</td>\n",
       "    </tr>\n",
       "    <tr>\n",
       "      <th>4</th>\n",
       "      <td>317.127563</td>\n",
       "      <td></td>\n",
       "      <td>24</td>\n",
       "      <td>1793.493499</td>\n",
       "      <td>349.041870</td>\n",
       "      <td>546.815742</td>\n",
       "      <td>2431.487632</td>\n",
       "      <td>2431.350050</td>\n",
       "      <td>2431.292653</td>\n",
       "      <td>5.646270</td>\n",
       "      <td>-0.194979</td>\n",
       "      <td>0.125136</td>\n",
       "      <td>0.003885</td>\n",
       "      <td>6200.521514</td>\n",
       "      <td>0</td>\n",
       "    </tr>\n",
       "    <tr>\n",
       "      <th>6</th>\n",
       "      <td>317.342682</td>\n",
       "      <td></td>\n",
       "      <td>24</td>\n",
       "      <td>2473.895933</td>\n",
       "      <td>528.041870</td>\n",
       "      <td>546.494397</td>\n",
       "      <td>2455.023858</td>\n",
       "      <td>2454.602018</td>\n",
       "      <td>2454.595092</td>\n",
       "      <td>5.459561</td>\n",
       "      <td>-0.428766</td>\n",
       "      <td>0.124879</td>\n",
       "      <td>0.002884</td>\n",
       "      <td>6429.113110</td>\n",
       "      <td>0</td>\n",
       "    </tr>\n",
       "    <tr>\n",
       "      <th>7</th>\n",
       "      <td>317.824341</td>\n",
       "      <td></td>\n",
       "      <td>23</td>\n",
       "      <td>1766.076033</td>\n",
       "      <td>527.940796</td>\n",
       "      <td>641.106476</td>\n",
       "      <td>1129.294176</td>\n",
       "      <td>1129.025361</td>\n",
       "      <td>1128.992767</td>\n",
       "      <td>4.007455</td>\n",
       "      <td>-0.301408</td>\n",
       "      <td>0.112640</td>\n",
       "      <td>0.003484</td>\n",
       "      <td>7677.895683</td>\n",
       "      <td>0</td>\n",
       "    </tr>\n",
       "  </tbody>\n",
       "</table>\n",
       "</div>"
      ],
      "text/plain": [
       "   WAVELENGTH NAME  ORDER         Flux   Intensity        Xcen         Ycen  \\\n",
       "0  303.350800          24  1693.682053  308.940796  469.825800   993.460331   \n",
       "1  316.136414          23   751.941807  170.057129  624.388073   965.655938   \n",
       "4  317.127563          24  1793.493499  349.041870  546.815742  2431.487632   \n",
       "6  317.342682          24  2473.895933  528.041870  546.494397  2455.023858   \n",
       "7  317.824341          23  1766.076033  527.940796  641.106476  1129.294176   \n",
       "\n",
       "        YGauss        Ytilt      FWHM   SHIFT_Y      TILT     chisq  \\\n",
       "0   993.293149   993.269916  4.966773 -0.190415  0.101151  0.003037   \n",
       "1   965.438779   965.508404  5.378685 -0.147534  0.110583  0.004730   \n",
       "4  2431.350050  2431.292653  5.646270 -0.194979  0.125136  0.003885   \n",
       "6  2454.602018  2454.595092  5.459561 -0.428766  0.124879  0.002884   \n",
       "7  1129.025361  1128.992767  4.007455 -0.301408  0.112640  0.003484   \n",
       "\n",
       "       SPECRES  FLAG  \n",
       "0  6121.888056     0  \n",
       "1  5648.945788     0  \n",
       "4  6200.521514     0  \n",
       "6  6429.113110     0  \n",
       "7  7677.895683     0  "
      ]
     },
     "execution_count": 52,
     "metadata": {},
     "output_type": "execute_result"
    }
   ],
   "source": [
    "dados.head()"
   ]
  },
  {
   "cell_type": "markdown",
   "metadata": {},
   "source": [
    "Nova organização dos índices"
   ]
  },
  {
   "cell_type": "code",
   "execution_count": 53,
   "metadata": {
    "collapsed": true
   },
   "outputs": [],
   "source": [
    "dados = dados.reset_index(drop=True)"
   ]
  },
  {
   "cell_type": "code",
   "execution_count": 54,
   "metadata": {
    "collapsed": false
   },
   "outputs": [
    {
     "data": {
      "text/html": [
       "<div>\n",
       "<table border=\"1\" class=\"dataframe\">\n",
       "  <thead>\n",
       "    <tr style=\"text-align: right;\">\n",
       "      <th></th>\n",
       "      <th>WAVELENGTH</th>\n",
       "      <th>NAME</th>\n",
       "      <th>ORDER</th>\n",
       "      <th>Flux</th>\n",
       "      <th>Intensity</th>\n",
       "      <th>Xcen</th>\n",
       "      <th>Ycen</th>\n",
       "      <th>YGauss</th>\n",
       "      <th>Ytilt</th>\n",
       "      <th>FWHM</th>\n",
       "      <th>SHIFT_Y</th>\n",
       "      <th>TILT</th>\n",
       "      <th>chisq</th>\n",
       "      <th>SPECRES</th>\n",
       "      <th>FLAG</th>\n",
       "    </tr>\n",
       "  </thead>\n",
       "  <tbody>\n",
       "    <tr>\n",
       "      <th>0</th>\n",
       "      <td>303.350800</td>\n",
       "      <td></td>\n",
       "      <td>24</td>\n",
       "      <td>1693.682053</td>\n",
       "      <td>308.940796</td>\n",
       "      <td>469.825800</td>\n",
       "      <td>993.460331</td>\n",
       "      <td>993.293149</td>\n",
       "      <td>993.269916</td>\n",
       "      <td>4.966773</td>\n",
       "      <td>-0.190415</td>\n",
       "      <td>0.101151</td>\n",
       "      <td>0.003037</td>\n",
       "      <td>6121.888056</td>\n",
       "      <td>0</td>\n",
       "    </tr>\n",
       "    <tr>\n",
       "      <th>1</th>\n",
       "      <td>316.136414</td>\n",
       "      <td></td>\n",
       "      <td>23</td>\n",
       "      <td>751.941807</td>\n",
       "      <td>170.057129</td>\n",
       "      <td>624.388073</td>\n",
       "      <td>965.655938</td>\n",
       "      <td>965.438779</td>\n",
       "      <td>965.508404</td>\n",
       "      <td>5.378685</td>\n",
       "      <td>-0.147534</td>\n",
       "      <td>0.110583</td>\n",
       "      <td>0.004730</td>\n",
       "      <td>5648.945788</td>\n",
       "      <td>0</td>\n",
       "    </tr>\n",
       "    <tr>\n",
       "      <th>2</th>\n",
       "      <td>317.127563</td>\n",
       "      <td></td>\n",
       "      <td>24</td>\n",
       "      <td>1793.493499</td>\n",
       "      <td>349.041870</td>\n",
       "      <td>546.815742</td>\n",
       "      <td>2431.487632</td>\n",
       "      <td>2431.350050</td>\n",
       "      <td>2431.292653</td>\n",
       "      <td>5.646270</td>\n",
       "      <td>-0.194979</td>\n",
       "      <td>0.125136</td>\n",
       "      <td>0.003885</td>\n",
       "      <td>6200.521514</td>\n",
       "      <td>0</td>\n",
       "    </tr>\n",
       "    <tr>\n",
       "      <th>3</th>\n",
       "      <td>317.342682</td>\n",
       "      <td></td>\n",
       "      <td>24</td>\n",
       "      <td>2473.895933</td>\n",
       "      <td>528.041870</td>\n",
       "      <td>546.494397</td>\n",
       "      <td>2455.023858</td>\n",
       "      <td>2454.602018</td>\n",
       "      <td>2454.595092</td>\n",
       "      <td>5.459561</td>\n",
       "      <td>-0.428766</td>\n",
       "      <td>0.124879</td>\n",
       "      <td>0.002884</td>\n",
       "      <td>6429.113110</td>\n",
       "      <td>0</td>\n",
       "    </tr>\n",
       "    <tr>\n",
       "      <th>4</th>\n",
       "      <td>317.824341</td>\n",
       "      <td></td>\n",
       "      <td>23</td>\n",
       "      <td>1766.076033</td>\n",
       "      <td>527.940796</td>\n",
       "      <td>641.106476</td>\n",
       "      <td>1129.294176</td>\n",
       "      <td>1129.025361</td>\n",
       "      <td>1128.992767</td>\n",
       "      <td>4.007455</td>\n",
       "      <td>-0.301408</td>\n",
       "      <td>0.112640</td>\n",
       "      <td>0.003484</td>\n",
       "      <td>7677.895683</td>\n",
       "      <td>0</td>\n",
       "    </tr>\n",
       "  </tbody>\n",
       "</table>\n",
       "</div>"
      ],
      "text/plain": [
       "   WAVELENGTH NAME  ORDER         Flux   Intensity        Xcen         Ycen  \\\n",
       "0  303.350800          24  1693.682053  308.940796  469.825800   993.460331   \n",
       "1  316.136414          23   751.941807  170.057129  624.388073   965.655938   \n",
       "2  317.127563          24  1793.493499  349.041870  546.815742  2431.487632   \n",
       "3  317.342682          24  2473.895933  528.041870  546.494397  2455.023858   \n",
       "4  317.824341          23  1766.076033  527.940796  641.106476  1129.294176   \n",
       "\n",
       "        YGauss        Ytilt      FWHM   SHIFT_Y      TILT     chisq  \\\n",
       "0   993.293149   993.269916  4.966773 -0.190415  0.101151  0.003037   \n",
       "1   965.438779   965.508404  5.378685 -0.147534  0.110583  0.004730   \n",
       "2  2431.350050  2431.292653  5.646270 -0.194979  0.125136  0.003885   \n",
       "3  2454.602018  2454.595092  5.459561 -0.428766  0.124879  0.002884   \n",
       "4  1129.025361  1128.992767  4.007455 -0.301408  0.112640  0.003484   \n",
       "\n",
       "       SPECRES  FLAG  \n",
       "0  6121.888056     0  \n",
       "1  5648.945788     0  \n",
       "2  6200.521514     0  \n",
       "3  6429.113110     0  \n",
       "4  7677.895683     0  "
      ]
     },
     "execution_count": 54,
     "metadata": {},
     "output_type": "execute_result"
    }
   ],
   "source": [
    "dados.head()"
   ]
  },
  {
   "cell_type": "markdown",
   "metadata": {},
   "source": [
    "## Resumo"
   ]
  },
  {
   "cell_type": "code",
   "execution_count": null,
   "metadata": {
    "collapsed": true
   },
   "outputs": [],
   "source": [
    "import pandas as pd\n",
    "import numpy as np\n",
    "from astropy.table import Table\n",
    "\n",
    "dados = Table.read(\"TILT_TAB_SLIT_UVB.fits\")\n",
    "dados = dados.to_pandas()\n",
    "dados = dados.dropna()\n",
    "dados = dados.reset_index(drop=True)\n",
    "dados = dados.iloc[dados.groupby(['WAVELENGTH']).apply(lambda x: x['chisq'].idxmin())]\n",
    "dados = dados.reset_index(drop=True)"
   ]
  }
 ],
 "metadata": {
  "kernelspec": {
   "display_name": "Python 3",
   "language": "python",
   "name": "python3"
  },
  "language_info": {
   "codemirror_mode": {
    "name": "ipython",
    "version": 3
   },
   "file_extension": ".py",
   "mimetype": "text/x-python",
   "name": "python",
   "nbconvert_exporter": "python",
   "pygments_lexer": "ipython3",
   "version": "3.6.0"
  }
 },
 "nbformat": 4,
 "nbformat_minor": 2
}
